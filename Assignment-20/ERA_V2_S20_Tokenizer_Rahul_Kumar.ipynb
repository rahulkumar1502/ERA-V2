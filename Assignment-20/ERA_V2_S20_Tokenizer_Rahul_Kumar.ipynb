{
  "cells": [
    {
      "cell_type": "markdown",
      "metadata": {},
      "source": [
        "## Loading dataset\n",
        "\n",
        "Here we have three text files in hindi:\n",
        "1. hindi_1.txt - around 180MB in size\n",
        "\n",
        "2. hindi_2.txt - around 45MB in size\n",
        "\n",
        "3. hindi_3.txt - around 9.3GB in size - this is too large. Hence we will only pick the first 1Lakh lines from this file for creating our vocabulary set"
      ]
    },
    {
      "cell_type": "code",
      "execution_count": 5,
      "metadata": {
        "id": "KAbCeNATUI5L"
      },
      "outputs": [],
      "source": [
        "with open('hindi_1.txt', 'r', encoding='utf-8') as f:\n",
        "    text1 = f.read()\n",
        "with open('hindi_2.txt', 'r', encoding='utf-8') as f:\n",
        "    text2 = f.read()"
      ]
    },
    {
      "cell_type": "code",
      "execution_count": 6,
      "metadata": {
        "id": "CATrvcdxnDGS"
      },
      "outputs": [
        {
          "name": "stdout",
          "output_type": "stream",
          "text": [
            "Added 100000 lines to text3\n"
          ]
        }
      ],
      "source": [
        "import fileinput\n",
        "N = 100000\n",
        "line_counter = 0\n",
        "text3 = ''\n",
        "for line in fileinput.input(\"hindi_3.txt\", encoding=\"utf-8\"):\n",
        "    line_counter += 1\n",
        "    text3 += line + '\\n'\n",
        "    if line_counter == N:\n",
        "        break\n",
        "print(f'Added {N} lines to text3')"
      ]
    },
    {
      "cell_type": "code",
      "execution_count": 7,
      "metadata": {
        "colab": {
          "base_uri": "https://localhost:8080/",
          "height": 35
        },
        "id": "LxjQRRQpUvga",
        "outputId": "219cf079-e83e-48b8-ab27-eadc8c4352c1"
      },
      "outputs": [
        {
          "data": {
            "text/plain": [
              "'नर्मदा, जिसे रेवा के नाम से भी जाना जाता है, मध्य भारत की एक नदी और भारतीय उपमहाद्वीप की पांचवीं सबस'"
            ]
          },
          "execution_count": 7,
          "metadata": {},
          "output_type": "execute_result"
        }
      ],
      "source": [
        "text1[:100]"
      ]
    },
    {
      "cell_type": "code",
      "execution_count": 8,
      "metadata": {
        "colab": {
          "base_uri": "https://localhost:8080/",
          "height": 35
        },
        "id": "6ku0-nboXPRj",
        "outputId": "cb9ac6a9-abde-4958-d5a6-da9e56e47695"
      },
      "outputs": [
        {
          "data": {
            "text/plain": [
              "'निर्देशांक: 27°30′N 79°24′E / 27.5°N 79.4°E / 27.5; 79.4\\nनिनौरा संकलपुर फर्रुखाबाद, फर्रुखाबाद, उत्त'"
            ]
          },
          "execution_count": 8,
          "metadata": {},
          "output_type": "execute_result"
        }
      ],
      "source": [
        "text2[:100]"
      ]
    },
    {
      "cell_type": "code",
      "execution_count": 9,
      "metadata": {
        "colab": {
          "base_uri": "https://localhost:8080/",
          "height": 35
        },
        "id": "Qw0aly2YjobD",
        "outputId": "94815595-02a7-41aa-fb64-e84778e9c8e8"
      },
      "outputs": [
        {
          "data": {
            "text/plain": [
              "'शारदा पारा के मिलन चैiक से आज महापौर देवेन्द्र यादव, पार्षद छोटे लाल चैधरी के साथ वार्ड का भ्रमण करत'"
            ]
          },
          "execution_count": 9,
          "metadata": {},
          "output_type": "execute_result"
        }
      ],
      "source": [
        "text3[:100]"
      ]
    },
    {
      "cell_type": "code",
      "execution_count": 10,
      "metadata": {
        "colab": {
          "base_uri": "https://localhost:8080/"
        },
        "id": "EjJyRcHEWOzb",
        "outputId": "c95a00a8-765e-402d-f8e7-64f53e6f1e98"
      },
      "outputs": [
        {
          "name": "stdout",
          "output_type": "stream",
          "text": [
            "length of dataset1 in characters:  71184826\n",
            "length of dataset2 in characters:  16976318\n",
            "length of dataset3 in characters:  32497056\n"
          ]
        }
      ],
      "source": [
        "print(\"length of dataset1 in characters: \", len(text1))\n",
        "print(\"length of dataset2 in characters: \", len(text2))\n",
        "print(\"length of dataset3 in characters: \", len(text3))"
      ]
    },
    {
      "cell_type": "code",
      "execution_count": 34,
      "metadata": {
        "id": "mQWOP1yYWHhj"
      },
      "outputs": [],
      "source": [
        "text = text1 + text2 + text3"
      ]
    },
    {
      "cell_type": "code",
      "execution_count": 35,
      "metadata": {
        "colab": {
          "base_uri": "https://localhost:8080/"
        },
        "id": "oBkFaJc7WVUG",
        "outputId": "56b8e334-127d-4f01-beb2-9f209dcd5308"
      },
      "outputs": [
        {
          "name": "stdout",
          "output_type": "stream",
          "text": [
            "length of dataset in characters:  120658200\n"
          ]
        }
      ],
      "source": [
        "print(\"length of dataset in characters: \", len(text))"
      ]
    },
    {
      "cell_type": "code",
      "execution_count": 36,
      "metadata": {
        "colab": {
          "base_uri": "https://localhost:8080/",
          "height": 139
        },
        "id": "5g1-dQ8hXMJz",
        "outputId": "f853cee5-2c13-4d72-c00b-6b325de8873b"
      },
      "outputs": [
        {
          "data": {
            "text/plain": [
              "'नर्मदा, जिसे रेवा के नाम से भी जाना जाता है, मध्य भारत की एक नदी और भारतीय उपमहाद्वीप की पांचवीं सबसे लंबी नदी है। यह गोदावरी नदी और कृष्णा नदी के बाद भारत के अंदर बहने वाली तीसरी सबसे लंबी नदी है। मध्य प्रदेश राज्य में इसके विशाल योगदान के कारण इसे \"मध्य प्रदेश की जीवन रेखा\" भी कहा जाता है। यह उत्तर और दक्षिण भारत के बीच एक पारंपरिक सीमा की तरह कार्य करती है। यह अपने उद्गम से पश्चिम की ओर 1,312 किमी चल कर खंभात की खाड़ी, अरब सागर में जा मिलती है।\\nनर्मदा, मध्य भारत के मध्य प्रदेश और गुजरात राज्य में बहने वाली एक प्रमुख नदी है। मैकल पर्वत के अमरकण्टक शिखर से नर्मदा नदी की उत्पत्ति हुई है। इसकी लम्बाई प्रायः 1312 किलोमीटर है। यह नदी पश्चिम की तरफ जाकर खम्बात की खाड़ी में गिरती है।\\nनर्मदा नदी का उद्गम मध्यप्रदेश के अनूपपुर जिले में विंध्याचल और सतपुड़ा पर्वतश्रेणियों के पूर्वी संधिस्थल पर स्थित अमरकंटक में नर्मदा कुंड से हुआ है। नदी पश्चिम की ओर सोनमुद से बहती हुई, एक चट्टान से नीचे गिरती हुई कपिलधारा नाम की एक जलप्रपात बनाती है। घुमावदार मार्ग और प्रबल वेग के साथ घने जंगलो और चट्टानों को'"
            ]
          },
          "execution_count": 36,
          "metadata": {},
          "output_type": "execute_result"
        }
      ],
      "source": [
        "text[:1000]"
      ]
    },
    {
      "cell_type": "markdown",
      "metadata": {},
      "source": [
        "## Vocabulary size"
      ]
    },
    {
      "cell_type": "code",
      "execution_count": 16,
      "metadata": {
        "colab": {
          "base_uri": "https://localhost:8080/"
        },
        "id": "8-tsaJl5WXHP",
        "outputId": "7fbcdeb7-4f69-4f5a-873c-6f1798b32849"
      },
      "outputs": [
        {
          "name": "stdout",
          "output_type": "stream",
          "text": [
            "Length of Vocabulary: 10001\n"
          ]
        }
      ],
      "source": [
        "vocab = sorted(list(set(text)))\n",
        "print('Length of Vocabulary:',len(vocab))"
      ]
    },
    {
      "cell_type": "code",
      "execution_count": 17,
      "metadata": {
        "colab": {
          "base_uri": "https://localhost:8080/"
        },
        "id": "xKZXgONUz4EQ",
        "outputId": "af4c8e40-21e7-481b-f7c3-280054ffc2d7"
      },
      "outputs": [
        {
          "name": "stdout",
          "output_type": "stream",
          "text": [
            "length of text: 120658200\n",
            "length of tokens: 304795096\n"
          ]
        }
      ],
      "source": [
        "tokens = text.encode(\"utf-8\")\n",
        "tokens = list(map(int, tokens))\n",
        "print(\"length of text:\", len(text))\n",
        "print(\"length of tokens:\", len(tokens))"
      ]
    },
    {
      "cell_type": "code",
      "execution_count": 18,
      "metadata": {
        "id": "D7r1jWCo1E68"
      },
      "outputs": [],
      "source": [
        "def get_stats(ids):\n",
        "    counts = {}\n",
        "    for pair in zip(ids, ids[1:]):\n",
        "        counts[pair] = counts.get(pair, 0) + 1\n",
        "    return counts"
      ]
    },
    {
      "cell_type": "code",
      "execution_count": 19,
      "metadata": {
        "colab": {
          "base_uri": "https://localhost:8080/",
          "height": 141
        },
        "id": "HEkXQoRl1DKx",
        "outputId": "6204cc67-08fe-4437-b6f4-d25207e7f1a9"
      },
      "outputs": [],
      "source": [
        "stats = get_stats(tokens)"
      ]
    },
    {
      "cell_type": "markdown",
      "metadata": {},
      "source": [
        "## Top 5 pairs with highest frequency"
      ]
    },
    {
      "cell_type": "code",
      "execution_count": 20,
      "metadata": {},
      "outputs": [
        {
          "data": {
            "text/plain": [
              "[((224, 164), 71087117),\n",
              " ((164, 168), 3760226),\n",
              " ((168, 224), 2835629),\n",
              " ((164, 176), 6114494),\n",
              " ((176, 224), 4266312)]"
            ]
          },
          "execution_count": 20,
          "metadata": {},
          "output_type": "execute_result"
        }
      ],
      "source": [
        "list(stats.items())[:5]"
      ]
    },
    {
      "cell_type": "code",
      "execution_count": 21,
      "metadata": {},
      "outputs": [
        {
          "data": {
            "text/plain": [
              "(224, 164)"
            ]
          },
          "execution_count": 21,
          "metadata": {},
          "output_type": "execute_result"
        }
      ],
      "source": [
        "top_pair = max(stats, key=stats.get)\n",
        "top_pair"
      ]
    },
    {
      "cell_type": "code",
      "execution_count": 22,
      "metadata": {},
      "outputs": [
        {
          "data": {
            "text/plain": [
              "('à', '¤')"
            ]
          },
          "execution_count": 22,
          "metadata": {},
          "output_type": "execute_result"
        }
      ],
      "source": [
        "chr(224), chr(164)"
      ]
    },
    {
      "cell_type": "markdown",
      "metadata": {},
      "source": [
        "Now we will merge the repetitive pairs and replace with 256 + {index of pair}"
      ]
    },
    {
      "cell_type": "code",
      "execution_count": 23,
      "metadata": {},
      "outputs": [],
      "source": [
        "def merge(ids, pair, idx):\n",
        "  i = 0\n",
        "  newids = []\n",
        "  while i < len(ids):\n",
        "    if i < len(ids) - 1 and ids[i] == pair[0] and ids[i+1] == pair[1]:\n",
        "      newids.append(idx)\n",
        "      i += 2\n",
        "    else:\n",
        "      newids.append(ids[i])\n",
        "      i += 1\n",
        "  \n",
        "  return newids"
      ]
    },
    {
      "cell_type": "code",
      "execution_count": 25,
      "metadata": {},
      "outputs": [
        {
          "data": {
            "text/plain": [
              "9745"
            ]
          },
          "execution_count": 25,
          "metadata": {},
          "output_type": "execute_result"
        }
      ],
      "source": [
        "num_merges = len(vocab) - 256\n",
        "num_merges"
      ]
    },
    {
      "cell_type": "markdown",
      "metadata": {},
      "source": [
        "## Compression Ratio"
      ]
    },
    {
      "cell_type": "code",
      "execution_count": 41,
      "metadata": {},
      "outputs": [
        {
          "name": "stdout",
          "output_type": "stream",
          "text": [
            "Merges completed\n"
          ]
        }
      ],
      "source": [
        "ids = list(tokens)\n",
        "merges = {}\n",
        "for i in range(30):\n",
        "  stats = get_stats(ids)\n",
        "  pair = max(stats, key=stats.get)\n",
        "  idx = 256 + i\n",
        "  ids = merge(ids, pair, idx)\n",
        "  merges[pair] = idx\n",
        "\n",
        "print('Merges completed')"
      ]
    },
    {
      "cell_type": "code",
      "execution_count": 43,
      "metadata": {},
      "outputs": [
        {
          "name": "stdout",
          "output_type": "stream",
          "text": [
            "tokens length: 304795096\n",
            "ids length: 55698259\n",
            "compression ratio: 5.47X\n"
          ]
        }
      ],
      "source": [
        "print(\"tokens length:\", len(tokens))\n",
        "print(\"ids length:\", len(ids))\n",
        "print(f\"compression ratio: {len(tokens) / len(ids):.2f}X\")"
      ]
    },
    {
      "cell_type": "code",
      "execution_count": 44,
      "metadata": {},
      "outputs": [],
      "source": [
        "with open('merges.pkl', 'wb') as file:\n",
        "    pickle.dump(merges, file)\n",
        "with open('vocab.pkl', 'wb') as file:\n",
        "    pickle.dump(vocab, file)"
      ]
    },
    {
      "cell_type": "markdown",
      "metadata": {},
      "source": [
        "## Using regex"
      ]
    },
    {
      "cell_type": "code",
      "execution_count": 46,
      "metadata": {},
      "outputs": [],
      "source": [
        "import string, re\n",
        "\n",
        "tokenizer_hindi_pattern=re.compile(r'(['+string.punctuation+r'\\u0964\\u0965\\uAAF1\\uAAF0\\uABEB\\uABEC\\uABED\\uABEE\\uABEF\\u1C7E\\u1C7F'+r'])')\n",
        "pattern_num_seq=re.compile(r'([0-9]+ [,.:/] )+[0-9]+')\n",
        "\n",
        "def tokenize_hindi_text(text): \n",
        "    \"\"\"tokenize string for Indian language scripts using Brahmi-derived scripts\n",
        "\n",
        "    A trivial tokenizer which just tokenizes on the punctuation boundaries. \n",
        "    This also includes punctuations for the Indian language scripts (the \n",
        "    purna virama and the deergha virama). This is a language independent \n",
        "    tokenizer\n",
        "\n",
        "    Args:\n",
        "        text (str): text to tokenize\n",
        "\n",
        "    Returns:\n",
        "        list: list of tokens\n",
        "\n",
        "    \"\"\"\n",
        "    tok_str=tokenizer_hindi_pattern.sub(r' \\1 ',text.replace('\\t',' '))\n",
        "    s=re.sub(r'[ ]+',' ',tok_str).strip(' ')\n",
        "    \n",
        "    # do not tokenize numbers and dates\n",
        "    new_s=''\n",
        "    prev=0\n",
        "    for m in pattern_num_seq.finditer(s):\n",
        "        start=m.start()\n",
        "        end=m.end()\n",
        "        if start>prev:\n",
        "            new_s=new_s+s[prev:start]\n",
        "            new_s=new_s+s[start:end].replace(' ','')\n",
        "            prev=end\n",
        "   \n",
        "    new_s=new_s+s[prev:]\n",
        "    s=new_s\n",
        "    \n",
        "    return s.split(' ')"
      ]
    },
    {
      "cell_type": "code",
      "execution_count": 47,
      "metadata": {},
      "outputs": [
        {
          "data": {
            "text/plain": [
              "['नर्मदा',\n",
              " ',',\n",
              " 'जिसे',\n",
              " 'रेवा',\n",
              " 'के',\n",
              " 'नाम',\n",
              " 'से',\n",
              " 'भी',\n",
              " 'जाना',\n",
              " 'जाता',\n",
              " 'है',\n",
              " ',',\n",
              " 'मध्य',\n",
              " 'भारत',\n",
              " 'की',\n",
              " 'एक',\n",
              " 'नदी',\n",
              " 'और',\n",
              " 'भारतीय',\n",
              " 'उपमहाद्वीप',\n",
              " 'की',\n",
              " 'पांचवीं',\n",
              " 'सबस']"
            ]
          },
          "execution_count": 47,
          "metadata": {},
          "output_type": "execute_result"
        }
      ],
      "source": [
        "tokenize_hindi_text('नर्मदा, जिसे रेवा के नाम से भी जाना जाता है, मध्य भारत की एक नदी और भारतीय उपमहाद्वीप की पांचवीं सबस')"
      ]
    }
  ],
  "metadata": {
    "accelerator": "GPU",
    "colab": {
      "gpuType": "T4",
      "provenance": []
    },
    "kernelspec": {
      "display_name": "Python 3",
      "name": "python3"
    },
    "language_info": {
      "codemirror_mode": {
        "name": "ipython",
        "version": 3
      },
      "file_extension": ".py",
      "mimetype": "text/x-python",
      "name": "python",
      "nbconvert_exporter": "python",
      "pygments_lexer": "ipython3",
      "version": "3.11.9"
    }
  },
  "nbformat": 4,
  "nbformat_minor": 0
}
