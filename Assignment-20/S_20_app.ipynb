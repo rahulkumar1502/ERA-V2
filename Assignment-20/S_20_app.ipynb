{
  "nbformat": 4,
  "nbformat_minor": 0,
  "metadata": {
    "colab": {
      "provenance": []
    },
    "kernelspec": {
      "name": "python3",
      "display_name": "Python 3"
    },
    "language_info": {
      "name": "python"
    }
  },
  "cells": [
    {
      "cell_type": "code",
      "source": [
        "import pickle\n",
        "import gradio as gr"
      ],
      "metadata": {
        "id": "HlV50MTGuAH-"
      },
      "execution_count": 1,
      "outputs": []
    },
    {
      "cell_type": "code",
      "execution_count": 2,
      "metadata": {
        "id": "LPtjq8yttokd"
      },
      "outputs": [],
      "source": [
        "from train_util import get_stats, merge, encode, decode"
      ]
    },
    {
      "cell_type": "code",
      "source": [
        "with open('model.pkl', 'rb') as handle:\n",
        "    model = pickle.load(handle)"
      ],
      "metadata": {
        "id": "QUGTWEoUt3vA"
      },
      "execution_count": 3,
      "outputs": []
    },
    {
      "cell_type": "code",
      "source": [
        "compiled_pattern = model['compiled_pattern']\n",
        "merges = model['merges']\n",
        "vocab = model['vocab']"
      ],
      "metadata": {
        "id": "yfS8Lc1TuI2u"
      },
      "execution_count": 4,
      "outputs": []
    },
    {
      "cell_type": "code",
      "source": [
        "def generate_tokens(hindi_txt):\n",
        "  enc_text = encode(hindi_txt, merges, compiled_pattern)\n",
        "  txt = decode(enc_text, vocab)\n",
        "  v_mapping = [(str(i),decode([i], vocab)) for i in enc_text]\n",
        "  enc_text = ', '.join([str(i) for i in enc_text])\n",
        "  return (enc_text, txt, v_mapping)"
      ],
      "metadata": {
        "id": "nfRtz2N_xGel"
      },
      "execution_count": 5,
      "outputs": []
    },
    {
      "cell_type": "code",
      "source": [
        "with gr.Blocks() as demo:\n",
        "    gr.HTML(\"<h1 align = 'center'> Token Generation for Hindi Dataset </h1>\")\n",
        "\n",
        "    with gr.Row():\n",
        "      with gr.Column():\n",
        "        inputs = [gr.TextArea(label = \"Enter initial text to generate tokens in Hindi\", lines = 10)]\n",
        "        generate_btn = gr.Button(value = 'Generate Text')\n",
        "      with gr.Column():\n",
        "        enc = gr.Textbox(label = \"Encoded Token\")\n",
        "        txt = gr.Textbox(label = \"Decoded Text\")\n",
        "        map = gr.Textbox(label = \"Mapping of the text\")\n",
        "        outputs  = [\n",
        "            enc,\n",
        "            txt,\n",
        "            map\n",
        "            ]\n",
        "\n",
        "    generate_btn.click(fn = generate_tokens, inputs= inputs, outputs = outputs)\n",
        "\n",
        "# for collab\n",
        "demo.launch(debug=True)"
      ],
      "metadata": {
        "colab": {
          "base_uri": "https://localhost:8080/",
          "height": 680
        },
        "id": "6PzwI7MQvkmH",
        "outputId": "6c07ed76-8383-43ce-aa80-bf7a4a56f5b0"
      },
      "execution_count": 6,
      "outputs": [
        {
          "output_type": "stream",
          "name": "stdout",
          "text": [
            "Setting queue=True in a Colab notebook requires sharing enabled. Setting `share=True` (you can turn this off by setting `share=False` in `launch()` explicitly).\n",
            "\n",
            "Colab notebook detected. This cell will run indefinitely so that you can see errors and logs. To turn off, set debug=False in launch().\n",
            "Running on public URL: https://04c0faf9ded76fdeb4.gradio.live\n",
            "\n",
            "This share link expires in 72 hours. For free permanent hosting and GPU upgrades, run `gradio deploy` from Terminal to deploy to Spaces (https://huggingface.co/spaces)\n"
          ]
        },
        {
          "output_type": "display_data",
          "data": {
            "text/plain": [
              "<IPython.core.display.HTML object>"
            ],
            "text/html": [
              "<div><iframe src=\"https://04c0faf9ded76fdeb4.gradio.live\" width=\"100%\" height=\"500\" allow=\"autoplay; camera; microphone; clipboard-read; clipboard-write;\" frameborder=\"0\" allowfullscreen></iframe></div>"
            ]
          },
          "metadata": {}
        },
        {
          "output_type": "stream",
          "name": "stdout",
          "text": [
            "Keyboard interruption in main thread... closing server.\n",
            "Killing tunnel 127.0.0.1:7860 <> https://04c0faf9ded76fdeb4.gradio.live\n"
          ]
        },
        {
          "output_type": "execute_result",
          "data": {
            "text/plain": []
          },
          "metadata": {},
          "execution_count": 6
        }
      ]
    }
  ]
}